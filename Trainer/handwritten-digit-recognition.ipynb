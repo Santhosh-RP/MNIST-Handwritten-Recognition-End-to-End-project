{
 "cells": [
  {
   "cell_type": "markdown",
   "metadata": {},
   "source": [
    "MNIST Dataset Description\n",
    "The MNIST (Modified National Institute of Standards and Technology) dataset is a collection of handwritten digits commonly used in machine learning and computer vision tasks. It is a benchmark dataset for training models in handwritten digit recognition.\n",
    "\n",
    "Dataset Details:\n",
    "Total Samples: 70,000 images\n",
    "Training Set: 60,000 images\n",
    "Test Set: 10,000 images\n",
    "Image Dimensions: 28x28 pixels (grayscale)\n",
    "Labels:\n",
    "The dataset contains labels from 0 to 9, representing the digits in the images."
   ]
  },
  {
   "cell_type": "markdown",
   "metadata": {},
   "source": [
    "<h1>Loading & preprocessing data</h1>"
   ]
  },
  {
   "cell_type": "code",
   "execution_count": 22,
   "metadata": {
    "_cell_guid": "b1076dfc-b9ad-4769-8c92-a6c4dae69d19",
    "_uuid": "8f2839f25d086af736a60e9eeb907d3b93b6e0e5",
    "execution": {
     "iopub.execute_input": "2024-11-22T10:13:31.450020Z",
     "iopub.status.busy": "2024-11-22T10:13:31.449666Z",
     "iopub.status.idle": "2024-11-22T10:13:31.713243Z",
     "shell.execute_reply": "2024-11-22T10:13:31.712490Z",
     "shell.execute_reply.started": "2024-11-22T10:13:31.449989Z"
    },
    "trusted": true
   },
   "outputs": [],
   "source": [
    "# Import necessary libraries\n",
    "import tensorflow as tf\n",
    "from tensorflow.keras.datasets import mnist\n",
    "from tensorflow.keras.utils import to_categorical\n",
    "\n",
    "# Load the MNIST dataset\n",
    "(x_train, y_train), (x_test, y_test) = mnist.load_data()"
   ]
  },
  {
   "cell_type": "code",
   "execution_count": 23,
   "metadata": {
    "execution": {
     "iopub.execute_input": "2024-11-22T10:13:31.715179Z",
     "iopub.status.busy": "2024-11-22T10:13:31.714878Z",
     "iopub.status.idle": "2024-11-22T10:13:31.967605Z",
     "shell.execute_reply": "2024-11-22T10:13:31.966765Z",
     "shell.execute_reply.started": "2024-11-22T10:13:31.715138Z"
    },
    "trusted": true
   },
   "outputs": [
    {
     "name": "stdout",
     "output_type": "stream",
     "text": [
      "Raw y_train shape: (60000,)\n",
      "Raw y_test shape: (10000,)\n"
     ]
    }
   ],
   "source": [
    "(x_train, y_train_raw), (x_test, y_test_raw) = mnist.load_data()\n",
    "\n",
    "# Check the shape of raw labels\n",
    "print(f\"Raw y_train shape: {y_train_raw.shape}\")\n",
    "print(f\"Raw y_test shape: {y_test_raw.shape}\")"
   ]
  },
  {
   "cell_type": "code",
   "execution_count": 24,
   "metadata": {
    "execution": {
     "iopub.execute_input": "2024-11-22T10:13:31.969530Z",
     "iopub.status.busy": "2024-11-22T10:13:31.968869Z",
     "iopub.status.idle": "2024-11-22T10:13:32.047578Z",
     "shell.execute_reply": "2024-11-22T10:13:32.046742Z",
     "shell.execute_reply.started": "2024-11-22T10:13:31.969488Z"
    },
    "trusted": true
   },
   "outputs": [
    {
     "data": {
      "text/plain": [
       "array([[[0., 0., 0., ..., 0., 0., 0.],\n",
       "        [0., 0., 0., ..., 0., 0., 0.],\n",
       "        [0., 0., 0., ..., 0., 0., 0.],\n",
       "        ...,\n",
       "        [0., 0., 0., ..., 0., 0., 0.],\n",
       "        [0., 0., 0., ..., 0., 0., 0.],\n",
       "        [0., 0., 0., ..., 0., 0., 0.]],\n",
       "\n",
       "       [[0., 0., 0., ..., 0., 0., 0.],\n",
       "        [0., 0., 0., ..., 0., 0., 0.],\n",
       "        [0., 0., 0., ..., 0., 0., 0.],\n",
       "        ...,\n",
       "        [0., 0., 0., ..., 0., 0., 0.],\n",
       "        [0., 0., 0., ..., 0., 0., 0.],\n",
       "        [0., 0., 0., ..., 0., 0., 0.]],\n",
       "\n",
       "       [[0., 0., 0., ..., 0., 0., 0.],\n",
       "        [0., 0., 0., ..., 0., 0., 0.],\n",
       "        [0., 0., 0., ..., 0., 0., 0.],\n",
       "        ...,\n",
       "        [0., 0., 0., ..., 0., 0., 0.],\n",
       "        [0., 0., 0., ..., 0., 0., 0.],\n",
       "        [0., 0., 0., ..., 0., 0., 0.]],\n",
       "\n",
       "       ...,\n",
       "\n",
       "       [[0., 0., 0., ..., 0., 0., 0.],\n",
       "        [0., 0., 0., ..., 0., 0., 0.],\n",
       "        [0., 0., 0., ..., 0., 0., 0.],\n",
       "        ...,\n",
       "        [0., 0., 0., ..., 0., 0., 0.],\n",
       "        [0., 0., 0., ..., 0., 0., 0.],\n",
       "        [0., 0., 0., ..., 0., 0., 0.]],\n",
       "\n",
       "       [[0., 0., 0., ..., 0., 0., 0.],\n",
       "        [0., 0., 0., ..., 0., 0., 0.],\n",
       "        [0., 0., 0., ..., 0., 0., 0.],\n",
       "        ...,\n",
       "        [0., 0., 0., ..., 0., 0., 0.],\n",
       "        [0., 0., 0., ..., 0., 0., 0.],\n",
       "        [0., 0., 0., ..., 0., 0., 0.]],\n",
       "\n",
       "       [[0., 0., 0., ..., 0., 0., 0.],\n",
       "        [0., 0., 0., ..., 0., 0., 0.],\n",
       "        [0., 0., 0., ..., 0., 0., 0.],\n",
       "        ...,\n",
       "        [0., 0., 0., ..., 0., 0., 0.],\n",
       "        [0., 0., 0., ..., 0., 0., 0.],\n",
       "        [0., 0., 0., ..., 0., 0., 0.]]], dtype=float32)"
      ]
     },
     "execution_count": 24,
     "metadata": {},
     "output_type": "execute_result"
    }
   ],
   "source": [
    "\n",
    "# Normalize the pixel values (scale between 0 and 1)\n",
    "x_train = x_train.astype('float32') / 255.0\n",
    "x_test = x_test.astype('float32') / 255.0\n",
    "x_train"
   ]
  },
  {
   "cell_type": "code",
   "execution_count": 25,
   "metadata": {
    "execution": {
     "iopub.execute_input": "2024-11-22T10:13:32.049143Z",
     "iopub.status.busy": "2024-11-22T10:13:32.048738Z",
     "iopub.status.idle": "2024-11-22T10:13:32.055629Z",
     "shell.execute_reply": "2024-11-22T10:13:32.054746Z",
     "shell.execute_reply.started": "2024-11-22T10:13:32.049103Z"
    },
    "trusted": true
   },
   "outputs": [
    {
     "data": {
      "text/plain": [
       "array([[0., 0., 0., ..., 0., 0., 0.],\n",
       "       [0., 0., 0., ..., 0., 0., 0.],\n",
       "       [0., 0., 0., ..., 0., 0., 0.],\n",
       "       ...,\n",
       "       [0., 0., 0., ..., 0., 0., 0.],\n",
       "       [0., 0., 0., ..., 0., 0., 0.],\n",
       "       [0., 0., 0., ..., 0., 0., 0.]], dtype=float32)"
      ]
     },
     "execution_count": 25,
     "metadata": {},
     "output_type": "execute_result"
    }
   ],
   "source": [
    "# Reshape data for ANN\n",
    "# For ANN: Flatten images to 1D vectors\n",
    "x_train_ann = x_train.reshape(-1, 28 * 28)\n",
    "x_test_ann = x_test.reshape(-1, 28 * 28)\n",
    "x_train_ann "
   ]
  },
  {
   "cell_type": "code",
   "execution_count": 26,
   "metadata": {
    "execution": {
     "iopub.execute_input": "2024-11-22T10:13:32.058393Z",
     "iopub.status.busy": "2024-11-22T10:13:32.058097Z",
     "iopub.status.idle": "2024-11-22T10:13:32.068294Z",
     "shell.execute_reply": "2024-11-22T10:13:32.067498Z",
     "shell.execute_reply.started": "2024-11-22T10:13:32.058365Z"
    },
    "trusted": true
   },
   "outputs": [
    {
     "data": {
      "text/plain": [
       "array([[0., 0., 0., ..., 0., 0., 0.],\n",
       "       [1., 0., 0., ..., 0., 0., 0.],\n",
       "       [0., 0., 0., ..., 0., 0., 0.],\n",
       "       ...,\n",
       "       [0., 0., 0., ..., 0., 0., 0.],\n",
       "       [0., 0., 0., ..., 0., 0., 0.],\n",
       "       [0., 0., 0., ..., 0., 1., 0.]])"
      ]
     },
     "execution_count": 26,
     "metadata": {},
     "output_type": "execute_result"
    }
   ],
   "source": [
    "# Convert labels to one-hot encoding\n",
    "y_train = to_categorical(y_train, 10)\n",
    "y_test = to_categorical(y_test, 10)\n",
    "y_train"
   ]
  },
  {
   "cell_type": "code",
   "execution_count": 27,
   "metadata": {
    "execution": {
     "iopub.execute_input": "2024-11-22T10:13:32.069562Z",
     "iopub.status.busy": "2024-11-22T10:13:32.069308Z",
     "iopub.status.idle": "2024-11-22T10:13:32.075953Z",
     "shell.execute_reply": "2024-11-22T10:13:32.075041Z",
     "shell.execute_reply.started": "2024-11-22T10:13:32.069538Z"
    },
    "trusted": true
   },
   "outputs": [
    {
     "name": "stdout",
     "output_type": "stream",
     "text": [
      "Corrected y_train shape: (60000, 10)\n",
      "Corrected y_test shape: (10000, 10)\n"
     ]
    }
   ],
   "source": [
    "from tensorflow.keras.utils import to_categorical\n",
    "\n",
    "# Correctly one-hot encode the labels\n",
    "y_train = to_categorical(y_train_raw, num_classes=10)\n",
    "y_test = to_categorical(y_test_raw, num_classes=10)\n",
    "\n",
    "# Check the shape after one-hot encoding\n",
    "print(f\"Corrected y_train shape: {y_train.shape}\")\n",
    "print(f\"Corrected y_test shape: {y_test.shape}\")\n"
   ]
  },
  {
   "cell_type": "markdown",
   "metadata": {},
   "source": [
    "<h1>Building the model</h1>"
   ]
  },
  {
   "cell_type": "code",
   "execution_count": 42,
   "metadata": {
    "execution": {
     "iopub.execute_input": "2024-11-22T10:19:24.206124Z",
     "iopub.status.busy": "2024-11-22T10:19:24.205335Z",
     "iopub.status.idle": "2024-11-22T10:19:24.232970Z",
     "shell.execute_reply": "2024-11-22T10:19:24.232334Z",
     "shell.execute_reply.started": "2024-11-22T10:19:24.206091Z"
    },
    "trusted": true
   },
   "outputs": [],
   "source": [
    "from tensorflow.keras.models import Sequential\n",
    "from tensorflow.keras.layers import Dense\n",
    "\n",
    "model = Sequential([\n",
    "    Dense(128, activation='relu', input_shape=(28 * 28,)),  # Input: 784 flattened pixels\n",
    "    Dense(64, activation='relu'),                          # Hidden layer\n",
    "    Dense(10, activation='softmax')                        # Output layer (10 classes)\n",
    "])\n"
   ]
  },
  {
   "cell_type": "code",
   "execution_count": 44,
   "metadata": {
    "execution": {
     "iopub.execute_input": "2024-11-22T10:19:36.369918Z",
     "iopub.status.busy": "2024-11-22T10:19:36.369348Z",
     "iopub.status.idle": "2024-11-22T10:19:36.378607Z",
     "shell.execute_reply": "2024-11-22T10:19:36.377667Z",
     "shell.execute_reply.started": "2024-11-22T10:19:36.369882Z"
    },
    "trusted": true
   },
   "outputs": [],
   "source": [
    "# Compile the model (this step is required before training)\n",
    "model.compile(optimizer='adam',                    # Optimizer\n",
    "              loss='categorical_crossentropy',     # Loss function\n",
    "              metrics=['accuracy']) "
   ]
  },
  {
   "cell_type": "code",
   "execution_count": 45,
   "metadata": {
    "execution": {
     "iopub.execute_input": "2024-11-22T10:19:37.806416Z",
     "iopub.status.busy": "2024-11-22T10:19:37.805580Z",
     "iopub.status.idle": "2024-11-22T10:20:07.270475Z",
     "shell.execute_reply": "2024-11-22T10:20:07.269834Z",
     "shell.execute_reply.started": "2024-11-22T10:19:37.806380Z"
    },
    "trusted": true
   },
   "outputs": [
    {
     "name": "stdout",
     "output_type": "stream",
     "text": [
      "Epoch 1/10\n",
      "\u001b[1m1875/1875\u001b[0m \u001b[32m━━━━━━━━━━━━━━━━━━━━\u001b[0m\u001b[37m\u001b[0m \u001b[1m4s\u001b[0m 2ms/step - accuracy: 0.8767 - loss: 0.4270 - val_accuracy: 0.9647 - val_loss: 0.1222\n",
      "Epoch 2/10\n",
      "\u001b[1m1875/1875\u001b[0m \u001b[32m━━━━━━━━━━━━━━━━━━━━\u001b[0m\u001b[37m\u001b[0m \u001b[1m3s\u001b[0m 1ms/step - accuracy: 0.9682 - loss: 0.1021 - val_accuracy: 0.9702 - val_loss: 0.0964\n",
      "Epoch 3/10\n",
      "\u001b[1m1875/1875\u001b[0m \u001b[32m━━━━━━━━━━━━━━━━━━━━\u001b[0m\u001b[37m\u001b[0m \u001b[1m3s\u001b[0m 1ms/step - accuracy: 0.9779 - loss: 0.0720 - val_accuracy: 0.9779 - val_loss: 0.0762\n",
      "Epoch 4/10\n",
      "\u001b[1m1875/1875\u001b[0m \u001b[32m━━━━━━━━━━━━━━━━━━━━\u001b[0m\u001b[37m\u001b[0m \u001b[1m3s\u001b[0m 1ms/step - accuracy: 0.9843 - loss: 0.0493 - val_accuracy: 0.9781 - val_loss: 0.0714\n",
      "Epoch 5/10\n",
      "\u001b[1m1875/1875\u001b[0m \u001b[32m━━━━━━━━━━━━━━━━━━━━\u001b[0m\u001b[37m\u001b[0m \u001b[1m3s\u001b[0m 1ms/step - accuracy: 0.9874 - loss: 0.0376 - val_accuracy: 0.9780 - val_loss: 0.0743\n",
      "Epoch 6/10\n",
      "\u001b[1m1875/1875\u001b[0m \u001b[32m━━━━━━━━━━━━━━━━━━━━\u001b[0m\u001b[37m\u001b[0m \u001b[1m3s\u001b[0m 1ms/step - accuracy: 0.9892 - loss: 0.0322 - val_accuracy: 0.9773 - val_loss: 0.0790\n",
      "Epoch 7/10\n",
      "\u001b[1m1875/1875\u001b[0m \u001b[32m━━━━━━━━━━━━━━━━━━━━\u001b[0m\u001b[37m\u001b[0m \u001b[1m3s\u001b[0m 1ms/step - accuracy: 0.9921 - loss: 0.0243 - val_accuracy: 0.9772 - val_loss: 0.0827\n",
      "Epoch 8/10\n",
      "\u001b[1m1875/1875\u001b[0m \u001b[32m━━━━━━━━━━━━━━━━━━━━\u001b[0m\u001b[37m\u001b[0m \u001b[1m3s\u001b[0m 2ms/step - accuracy: 0.9926 - loss: 0.0200 - val_accuracy: 0.9795 - val_loss: 0.0816\n",
      "Epoch 9/10\n",
      "\u001b[1m1875/1875\u001b[0m \u001b[32m━━━━━━━━━━━━━━━━━━━━\u001b[0m\u001b[37m\u001b[0m \u001b[1m3s\u001b[0m 1ms/step - accuracy: 0.9945 - loss: 0.0168 - val_accuracy: 0.9763 - val_loss: 0.0958\n",
      "Epoch 10/10\n",
      "\u001b[1m1875/1875\u001b[0m \u001b[32m━━━━━━━━━━━━━━━━━━━━\u001b[0m\u001b[37m\u001b[0m \u001b[1m3s\u001b[0m 1ms/step - accuracy: 0.9942 - loss: 0.0173 - val_accuracy: 0.9762 - val_loss: 0.1036\n"
     ]
    }
   ],
   "source": [
    "# After compiling, you can now train the model\n",
    "history = model.fit(x_train_ann, y_train, \n",
    "                    epochs=10, batch_size=32, \n",
    "                    validation_data=(x_test_ann, y_test))"
   ]
  },
  {
   "cell_type": "code",
   "execution_count": 46,
   "metadata": {
    "execution": {
     "iopub.execute_input": "2024-11-22T10:20:58.312553Z",
     "iopub.status.busy": "2024-11-22T10:20:58.312214Z",
     "iopub.status.idle": "2024-11-22T10:20:58.563621Z",
     "shell.execute_reply": "2024-11-22T10:20:58.562852Z",
     "shell.execute_reply.started": "2024-11-22T10:20:58.312522Z"
    },
    "trusted": true
   },
   "outputs": [
    {
     "data": {
      "image/png": "[encoded data removed]",
      "text/plain": [
       "<Figure size 800x600 with 1 Axes>"
      ]
     },
     "metadata": {},
     "output_type": "display_data"
    }
   ],
   "source": [
    "\n",
    "import matplotlib.pyplot as plt\n",
    "\n",
    "# Extract loss values from the history object\n",
    "train_loss = history.history['loss']\n",
    "val_loss = history.history['val_loss']\n",
    "\n",
    "# Plot training and validation loss\n",
    "plt.figure(figsize=(8, 6))\n",
    "plt.plot(train_loss, label='Training Loss')\n",
    "plt.plot(val_loss, label='Validation Loss')\n",
    "plt.title('Training and Validation Loss')\n",
    "plt.xlabel('Epochs')\n",
    "plt.ylabel('Loss')\n",
    "plt.legend()\n",
    "plt.grid()\n",
    "plt.show()\n",
    "\n"
   ]
  },
  {
   "cell_type": "code",
   "execution_count": 47,
   "metadata": {
    "execution": {
     "iopub.execute_input": "2024-11-22T10:21:36.751604Z",
     "iopub.status.busy": "2024-11-22T10:21:36.751246Z",
     "iopub.status.idle": "2024-11-22T10:21:36.968531Z",
     "shell.execute_reply": "2024-11-22T10:21:36.967792Z",
     "shell.execute_reply.started": "2024-11-22T10:21:36.751564Z"
    },
    "trusted": true
   },
   "outputs": [
    {
     "name": "stdout",
     "output_type": "stream",
     "text": [
      "\u001b[1m1/1\u001b[0m \u001b[32m━━━━━━━━━━━━━━━━━━━━\u001b[0m\u001b[37m\u001b[0m \u001b[1m0s\u001b[0m 171ms/step\n",
      "True Label: 7\n",
      "Predicted Class: 7\n"
     ]
    }
   ],
   "source": [
    "import numpy as np\n",
    "\n",
    "# Select an image from the test set\n",
    "test_image = x_test[0]  # First image in the test set\n",
    "test_label = np.argmax(y_test[0])  # True label of the first image\n",
    "\n",
    "# Preprocess the image for ANN (flatten and add batch dimension)\n",
    "test_image_flattened = test_image.reshape(1, 28 * 28)  # Shape (1, 784)\n",
    "\n",
    "# Make a prediction\n",
    "predictions = model.predict(test_image_flattened)\n",
    "predicted_class = np.argmax(predictions[0])  # Get the index of the highest probability\n",
    "\n",
    "# Output the results\n",
    "print(f\"True Label: {test_label}\")\n",
    "print(f\"Predicted Class: {predicted_class}\")\n"
   ]
  },
  {
   "cell_type": "code",
   "execution_count": 48,
   "metadata": {
    "execution": {
     "iopub.execute_input": "2024-11-22T10:25:53.775881Z",
     "iopub.status.busy": "2024-11-22T10:25:53.775511Z",
     "iopub.status.idle": "2024-11-22T10:25:53.811093Z",
     "shell.execute_reply": "2024-11-22T10:25:53.810284Z",
     "shell.execute_reply.started": "2024-11-22T10:25:53.775850Z"
    },
    "trusted": true
   },
   "outputs": [
    {
     "name": "stdout",
     "output_type": "stream",
     "text": [
      "Model saved as 'mnist_ann_model.h5'\n"
     ]
    }
   ],
   "source": [
    "# Save the model in HDF5 format\n",
    "model.save(\"mnist_ann_model.h5\")\n",
    "print(\"Model saved as 'mnist_ann_model.h5'\")\n"
   ]
  },
  {
   "cell_type": "code",
   "execution_count": 49,
   "metadata": {
    "execution": {
     "iopub.execute_input": "2024-11-22T10:26:08.646175Z",
     "iopub.status.busy": "2024-11-22T10:26:08.645842Z",
     "iopub.status.idle": "2024-11-22T10:26:08.690932Z",
     "shell.execute_reply": "2024-11-22T10:26:08.690072Z",
     "shell.execute_reply.started": "2024-11-22T10:26:08.646145Z"
    },
    "trusted": true
   },
   "outputs": [
    {
     "name": "stdout",
     "output_type": "stream",
     "text": [
      "Model loaded successfully.\n"
     ]
    }
   ],
   "source": [
    "from tensorflow.keras.models import load_model\n",
    "\n",
    "# Load the saved model\n",
    "loaded_model = load_model(\"mnist_ann_model.h5\")\n",
    "print(\"Model loaded successfully.\")"
   ]
  },
  {
   "cell_type": "code",
   "execution_count": null,
   "metadata": {
    "trusted": true
   },
   "outputs": [],
   "source": []
  },
  {
   "cell_type": "code",
   "execution_count": null,
   "metadata": {
    "trusted": true
   },
   "outputs": [],
   "source": []
  },
  {
   "cell_type": "code",
   "execution_count": null,
   "metadata": {
    "trusted": true
   },
   "outputs": [],
   "source": []
  },
  {
   "cell_type": "code",
   "execution_count": null,
   "metadata": {
    "trusted": true
   },
   "outputs": [],
   "source": []
  },
  {
   "cell_type": "code",
   "execution_count": null,
   "metadata": {
    "trusted": true
   },
   "outputs": [],
   "source": []
  },
  {
   "cell_type": "code",
   "execution_count": null,
   "metadata": {
    "trusted": true
   },
   "outputs": [],
   "source": []
  },
  {
   "cell_type": "code",
   "execution_count": null,
   "metadata": {
    "trusted": true
   },
   "outputs": [],
   "source": []
  },
  {
   "cell_type": "code",
   "execution_count": null,
   "metadata": {
    "trusted": true
   },
   "outputs": [],
   "source": []
  },
  {
   "cell_type": "code",
   "execution_count": null,
   "metadata": {
    "trusted": true
   },
   "outputs": [],
   "source": []
  },
  {
   "cell_type": "code",
   "execution_count": null,
   "metadata": {
    "trusted": true
   },
   "outputs": [],
   "source": []
  },
  {
   "cell_type": "code",
   "execution_count": null,
   "metadata": {
    "trusted": true
   },
   "outputs": [],
   "source": []
  },
  {
   "cell_type": "code",
   "execution_count": null,
   "metadata": {
    "trusted": true
   },
   "outputs": [],
   "source": []
  },
  {
   "cell_type": "code",
   "execution_count": null,
   "metadata": {
    "trusted": true
   },
   "outputs": [],
   "source": []
  },
  {
   "cell_type": "code",
   "execution_count": null,
   "metadata": {
    "trusted": true
   },
   "outputs": [],
   "source": []
  }
 ],
 "metadata": {
  "kaggle": {
   "accelerator": "nvidiaTeslaT4",
   "dataSources": [],
   "dockerImageVersionId": 30787,
   "isGpuEnabled": true,
   "isInternetEnabled": true,
   "language": "python",
   "sourceType": "notebook"
  },
  "kernelspec": {
   "display_name": ".venv",
   "language": "python",
   "name": "python3"
  },
  "language_info": {
   "codemirror_mode": {
    "name": "ipython",
    "version": 3
   },
   "file_extension": ".py",
   "mimetype": "text/x-python",
   "name": "python",
   "nbconvert_exporter": "python",
   "pygments_lexer": "ipython3",
   "version": "3.12.0"
  }
 },
 "nbformat": 4,
 "nbformat_minor": 4
}
